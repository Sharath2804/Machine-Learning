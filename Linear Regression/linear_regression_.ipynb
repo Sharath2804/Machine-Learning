{
  "nbformat": 4,
  "nbformat_minor": 0,
  "metadata": {
    "colab": {
      "name": "linear regression .",
      "provenance": [],
      "collapsed_sections": []
    },
    "kernelspec": {
      "name": "python3",
      "display_name": "Python 3"
    }
  },
  "cells": [
    {
      "cell_type": "code",
      "metadata": {
        "id": "2_4xdVmSHba3"
      },
      "source": [
        "import pandas as pd\r\n",
        "import numpy as np\r\n",
        "import seaborn as sns\r\n",
        "import matplotlib.pyplot as plt\r\n"
      ],
      "execution_count": 68,
      "outputs": []
    },
    {
      "cell_type": "code",
      "metadata": {
        "colab": {
          "base_uri": "https://localhost:8080/",
          "height": 197
        },
        "id": "Mp9JVO2VHrrb",
        "outputId": "cafea345-3a9b-4ef7-cda2-81414eec1a76"
      },
      "source": [
        "df=pd.read_csv('regression_train.txt')\r\n",
        "df.head()"
      ],
      "execution_count": 69,
      "outputs": [
        {
          "output_type": "execute_result",
          "data": {
            "text/html": [
              "<div>\n",
              "<style scoped>\n",
              "    .dataframe tbody tr th:only-of-type {\n",
              "        vertical-align: middle;\n",
              "    }\n",
              "\n",
              "    .dataframe tbody tr th {\n",
              "        vertical-align: top;\n",
              "    }\n",
              "\n",
              "    .dataframe thead th {\n",
              "        text-align: right;\n",
              "    }\n",
              "</style>\n",
              "<table border=\"1\" class=\"dataframe\">\n",
              "  <thead>\n",
              "    <tr style=\"text-align: right;\">\n",
              "      <th></th>\n",
              "      <th>data1</th>\n",
              "      <th>data2</th>\n",
              "      <th>data3</th>\n",
              "      <th>data4</th>\n",
              "      <th>data5</th>\n",
              "      <th>data6</th>\n",
              "      <th>data7</th>\n",
              "      <th>data8</th>\n",
              "      <th>data9</th>\n",
              "      <th>data10</th>\n",
              "      <th>output</th>\n",
              "    </tr>\n",
              "  </thead>\n",
              "  <tbody>\n",
              "    <tr>\n",
              "      <th>0</th>\n",
              "      <td>8</td>\n",
              "      <td>279</td>\n",
              "      <td>C</td>\n",
              "      <td>14.451155</td>\n",
              "      <td>1139.0</td>\n",
              "      <td>1.0</td>\n",
              "      <td>9.302908</td>\n",
              "      <td>1.0</td>\n",
              "      <td>M</td>\n",
              "      <td>p</td>\n",
              "      <td>86.108947</td>\n",
              "    </tr>\n",
              "    <tr>\n",
              "      <th>1</th>\n",
              "      <td>1</td>\n",
              "      <td>108</td>\n",
              "      <td>H</td>\n",
              "      <td>14.207448</td>\n",
              "      <td>1656.0</td>\n",
              "      <td>1.0</td>\n",
              "      <td>7.220130</td>\n",
              "      <td>0.0</td>\n",
              "      <td>M</td>\n",
              "      <td>p</td>\n",
              "      <td>42.606833</td>\n",
              "    </tr>\n",
              "    <tr>\n",
              "      <th>2</th>\n",
              "      <td>8</td>\n",
              "      <td>258</td>\n",
              "      <td>A</td>\n",
              "      <td>19.220830</td>\n",
              "      <td>2817.0</td>\n",
              "      <td>1.0</td>\n",
              "      <td>8.727214</td>\n",
              "      <td>1.0</td>\n",
              "      <td>M</td>\n",
              "      <td>p</td>\n",
              "      <td>85.625961</td>\n",
              "    </tr>\n",
              "    <tr>\n",
              "      <th>3</th>\n",
              "      <td>4</td>\n",
              "      <td>147</td>\n",
              "      <td>A</td>\n",
              "      <td>15.752732</td>\n",
              "      <td>1948.0</td>\n",
              "      <td>1.0</td>\n",
              "      <td>6.078818</td>\n",
              "      <td>1.0</td>\n",
              "      <td>M</td>\n",
              "      <td>p</td>\n",
              "      <td>53.656277</td>\n",
              "    </tr>\n",
              "    <tr>\n",
              "      <th>4</th>\n",
              "      <td>5</td>\n",
              "      <td>230</td>\n",
              "      <td>H</td>\n",
              "      <td>10.195407</td>\n",
              "      <td>1336.0</td>\n",
              "      <td>1.0</td>\n",
              "      <td>4.749185</td>\n",
              "      <td>0.0</td>\n",
              "      <td>M</td>\n",
              "      <td>p</td>\n",
              "      <td>64.925051</td>\n",
              "    </tr>\n",
              "  </tbody>\n",
              "</table>\n",
              "</div>"
            ],
            "text/plain": [
              "   data1  data2 data3      data4  ...  data8  data9  data10     output\n",
              "0      8    279     C  14.451155  ...    1.0      M       p  86.108947\n",
              "1      1    108     H  14.207448  ...    0.0      M       p  42.606833\n",
              "2      8    258     A  19.220830  ...    1.0      M       p  85.625961\n",
              "3      4    147     A  15.752732  ...    1.0      M       p  53.656277\n",
              "4      5    230     H  10.195407  ...    0.0      M       p  64.925051\n",
              "\n",
              "[5 rows x 11 columns]"
            ]
          },
          "metadata": {
            "tags": []
          },
          "execution_count": 69
        }
      ]
    },
    {
      "cell_type": "code",
      "metadata": {
        "colab": {
          "base_uri": "https://localhost:8080/"
        },
        "id": "9loSyqkyHsNG",
        "outputId": "795c0151-3482-4ba0-fdb8-3756b7fcfcff"
      },
      "source": [
        "df.dtypes"
      ],
      "execution_count": 70,
      "outputs": [
        {
          "output_type": "execute_result",
          "data": {
            "text/plain": [
              "data1       int64\n",
              "data2       int64\n",
              "data3      object\n",
              "data4     float64\n",
              "data5     float64\n",
              "data6     float64\n",
              "data7     float64\n",
              "data8     float64\n",
              "data9      object\n",
              "data10     object\n",
              "output    float64\n",
              "dtype: object"
            ]
          },
          "metadata": {
            "tags": []
          },
          "execution_count": 70
        }
      ]
    },
    {
      "cell_type": "code",
      "metadata": {
        "colab": {
          "base_uri": "https://localhost:8080/"
        },
        "id": "U2Ayx5zIsCbD",
        "outputId": "0ce73769-069c-46a6-9214-7c426d1dc19b"
      },
      "source": [
        "df.duplicated().any()"
      ],
      "execution_count": 71,
      "outputs": [
        {
          "output_type": "execute_result",
          "data": {
            "text/plain": [
              "False"
            ]
          },
          "metadata": {
            "tags": []
          },
          "execution_count": 71
        }
      ]
    },
    {
      "cell_type": "code",
      "metadata": {
        "colab": {
          "base_uri": "https://localhost:8080/"
        },
        "id": "7iiCy0vFHsYA",
        "outputId": "42646dc7-1ab4-44ad-8b3a-d30cfa4ca271"
      },
      "source": [
        "df.shape"
      ],
      "execution_count": 72,
      "outputs": [
        {
          "output_type": "execute_result",
          "data": {
            "text/plain": [
              "(10000, 11)"
            ]
          },
          "metadata": {
            "tags": []
          },
          "execution_count": 72
        }
      ]
    },
    {
      "cell_type": "code",
      "metadata": {
        "colab": {
          "base_uri": "https://localhost:8080/"
        },
        "id": "jSSIVyw8Hsfv",
        "outputId": "da60b0fa-89a2-4176-c69f-609e7982ef0a"
      },
      "source": [
        "df.isnull().sum()"
      ],
      "execution_count": 73,
      "outputs": [
        {
          "output_type": "execute_result",
          "data": {
            "text/plain": [
              "data1     0\n",
              "data2     0\n",
              "data3     0\n",
              "data4     0\n",
              "data5     1\n",
              "data6     3\n",
              "data7     2\n",
              "data8     1\n",
              "data9     1\n",
              "data10    1\n",
              "output    1\n",
              "dtype: int64"
            ]
          },
          "metadata": {
            "tags": []
          },
          "execution_count": 73
        }
      ]
    },
    {
      "cell_type": "code",
      "metadata": {
        "colab": {
          "base_uri": "https://localhost:8080/"
        },
        "id": "fX7aBqAuHsnX",
        "outputId": "6733ce89-11b0-4b0c-ca95-7e641813a763"
      },
      "source": [
        "df=df.dropna()\r\n",
        "df.shape"
      ],
      "execution_count": 74,
      "outputs": [
        {
          "output_type": "execute_result",
          "data": {
            "text/plain": [
              "(9997, 11)"
            ]
          },
          "metadata": {
            "tags": []
          },
          "execution_count": 74
        }
      ]
    },
    {
      "cell_type": "code",
      "metadata": {
        "colab": {
          "base_uri": "https://localhost:8080/",
          "height": 287
        },
        "id": "p9Aso1a7Hsum",
        "outputId": "895eedb9-36cc-414d-c723-36d11b87706e"
      },
      "source": [
        "corr=df.corr()\r\n",
        "corr"
      ],
      "execution_count": 75,
      "outputs": [
        {
          "output_type": "execute_result",
          "data": {
            "text/html": [
              "<div>\n",
              "<style scoped>\n",
              "    .dataframe tbody tr th:only-of-type {\n",
              "        vertical-align: middle;\n",
              "    }\n",
              "\n",
              "    .dataframe tbody tr th {\n",
              "        vertical-align: top;\n",
              "    }\n",
              "\n",
              "    .dataframe thead th {\n",
              "        text-align: right;\n",
              "    }\n",
              "</style>\n",
              "<table border=\"1\" class=\"dataframe\">\n",
              "  <thead>\n",
              "    <tr style=\"text-align: right;\">\n",
              "      <th></th>\n",
              "      <th>data1</th>\n",
              "      <th>data2</th>\n",
              "      <th>data4</th>\n",
              "      <th>data5</th>\n",
              "      <th>data6</th>\n",
              "      <th>data7</th>\n",
              "      <th>data8</th>\n",
              "      <th>output</th>\n",
              "    </tr>\n",
              "  </thead>\n",
              "  <tbody>\n",
              "    <tr>\n",
              "      <th>data1</th>\n",
              "      <td>1.000000</td>\n",
              "      <td>0.008367</td>\n",
              "      <td>0.007462</td>\n",
              "      <td>-0.022798</td>\n",
              "      <td>-0.002956</td>\n",
              "      <td>-0.000312</td>\n",
              "      <td>-0.008111</td>\n",
              "      <td>0.185512</td>\n",
              "    </tr>\n",
              "    <tr>\n",
              "      <th>data2</th>\n",
              "      <td>0.008367</td>\n",
              "      <td>1.000000</td>\n",
              "      <td>0.019126</td>\n",
              "      <td>0.017404</td>\n",
              "      <td>0.010093</td>\n",
              "      <td>-0.013187</td>\n",
              "      <td>0.013590</td>\n",
              "      <td>0.867934</td>\n",
              "    </tr>\n",
              "    <tr>\n",
              "      <th>data4</th>\n",
              "      <td>0.007462</td>\n",
              "      <td>0.019126</td>\n",
              "      <td>1.000000</td>\n",
              "      <td>0.006372</td>\n",
              "      <td>0.000550</td>\n",
              "      <td>0.018160</td>\n",
              "      <td>-0.003601</td>\n",
              "      <td>0.406264</td>\n",
              "    </tr>\n",
              "    <tr>\n",
              "      <th>data5</th>\n",
              "      <td>-0.022798</td>\n",
              "      <td>0.017404</td>\n",
              "      <td>0.006372</td>\n",
              "      <td>1.000000</td>\n",
              "      <td>0.005740</td>\n",
              "      <td>0.009529</td>\n",
              "      <td>0.009352</td>\n",
              "      <td>0.015382</td>\n",
              "    </tr>\n",
              "    <tr>\n",
              "      <th>data6</th>\n",
              "      <td>-0.002956</td>\n",
              "      <td>0.010093</td>\n",
              "      <td>0.000550</td>\n",
              "      <td>0.005740</td>\n",
              "      <td>1.000000</td>\n",
              "      <td>-0.020063</td>\n",
              "      <td>-0.001605</td>\n",
              "      <td>-0.009857</td>\n",
              "    </tr>\n",
              "    <tr>\n",
              "      <th>data7</th>\n",
              "      <td>-0.000312</td>\n",
              "      <td>-0.013187</td>\n",
              "      <td>0.018160</td>\n",
              "      <td>0.009529</td>\n",
              "      <td>-0.020063</td>\n",
              "      <td>1.000000</td>\n",
              "      <td>-0.009449</td>\n",
              "      <td>0.212525</td>\n",
              "    </tr>\n",
              "    <tr>\n",
              "      <th>data8</th>\n",
              "      <td>-0.008111</td>\n",
              "      <td>0.013590</td>\n",
              "      <td>-0.003601</td>\n",
              "      <td>0.009352</td>\n",
              "      <td>-0.001605</td>\n",
              "      <td>-0.009449</td>\n",
              "      <td>1.000000</td>\n",
              "      <td>0.008164</td>\n",
              "    </tr>\n",
              "    <tr>\n",
              "      <th>output</th>\n",
              "      <td>0.185512</td>\n",
              "      <td>0.867934</td>\n",
              "      <td>0.406264</td>\n",
              "      <td>0.015382</td>\n",
              "      <td>-0.009857</td>\n",
              "      <td>0.212525</td>\n",
              "      <td>0.008164</td>\n",
              "      <td>1.000000</td>\n",
              "    </tr>\n",
              "  </tbody>\n",
              "</table>\n",
              "</div>"
            ],
            "text/plain": [
              "           data1     data2     data4  ...     data7     data8    output\n",
              "data1   1.000000  0.008367  0.007462  ... -0.000312 -0.008111  0.185512\n",
              "data2   0.008367  1.000000  0.019126  ... -0.013187  0.013590  0.867934\n",
              "data4   0.007462  0.019126  1.000000  ...  0.018160 -0.003601  0.406264\n",
              "data5  -0.022798  0.017404  0.006372  ...  0.009529  0.009352  0.015382\n",
              "data6  -0.002956  0.010093  0.000550  ... -0.020063 -0.001605 -0.009857\n",
              "data7  -0.000312 -0.013187  0.018160  ...  1.000000 -0.009449  0.212525\n",
              "data8  -0.008111  0.013590 -0.003601  ... -0.009449  1.000000  0.008164\n",
              "output  0.185512  0.867934  0.406264  ...  0.212525  0.008164  1.000000\n",
              "\n",
              "[8 rows x 8 columns]"
            ]
          },
          "metadata": {
            "tags": []
          },
          "execution_count": 75
        }
      ]
    },
    {
      "cell_type": "code",
      "metadata": {
        "colab": {
          "base_uri": "https://localhost:8080/",
          "height": 596
        },
        "id": "PambAu_J8JR2",
        "outputId": "45b47a9a-379a-4461-c951-e0e9878c0e0f"
      },
      "source": [
        "plt.figure(figsize=(20,10),facecolor='w')\r\n",
        "sns.heatmap(corr,xticklabels=corr.columns,yticklabels=corr.columns,annot=True)"
      ],
      "execution_count": 76,
      "outputs": [
        {
          "output_type": "execute_result",
          "data": {
            "text/plain": [
              "<matplotlib.axes._subplots.AxesSubplot at 0x7f868027aa20>"
            ]
          },
          "metadata": {
            "tags": []
          },
          "execution_count": 76
        },
        {
          "output_type": "display_data",
          "data": {
            "image/png": "[encoded data removed]",
            "text/plain": [
              "<Figure size 1440x720 with 2 Axes>"
            ]
          },
          "metadata": {
            "tags": []
          }
        }
      ]
    },
    {
      "cell_type": "code",
      "metadata": {
        "id": "xhSL6zfoJYLt"
      },
      "source": [
        "from sklearn.linear_model import LinearRegression\r\n",
        "from sklearn.model_selection import train_test_split\r\n",
        "from sklearn.metrics import accuracy_score\r\n",
        "from sklearn.metrics import mean_squared_error,r2_score"
      ],
      "execution_count": 77,
      "outputs": []
    },
    {
      "cell_type": "code",
      "metadata": {
        "colab": {
          "base_uri": "https://localhost:8080/",
          "height": 217
        },
        "id": "I_HKAMSlJZCg",
        "outputId": "d32d9c96-b87f-43ed-8d1b-331178cad46c"
      },
      "source": [
        "df=pd.get_dummies(df,columns=['data3','data6','data8','data9','data10'])\r\n",
        "df.head()\r\n"
      ],
      "execution_count": 78,
      "outputs": [
        {
          "output_type": "execute_result",
          "data": {
            "text/html": [
              "<div>\n",
              "<style scoped>\n",
              "    .dataframe tbody tr th:only-of-type {\n",
              "        vertical-align: middle;\n",
              "    }\n",
              "\n",
              "    .dataframe tbody tr th {\n",
              "        vertical-align: top;\n",
              "    }\n",
              "\n",
              "    .dataframe thead th {\n",
              "        text-align: right;\n",
              "    }\n",
              "</style>\n",
              "<table border=\"1\" class=\"dataframe\">\n",
              "  <thead>\n",
              "    <tr style=\"text-align: right;\">\n",
              "      <th></th>\n",
              "      <th>data1</th>\n",
              "      <th>data2</th>\n",
              "      <th>data4</th>\n",
              "      <th>data5</th>\n",
              "      <th>data7</th>\n",
              "      <th>output</th>\n",
              "      <th>data3_A</th>\n",
              "      <th>data3_B</th>\n",
              "      <th>data3_C</th>\n",
              "      <th>data3_D</th>\n",
              "      <th>data3_E</th>\n",
              "      <th>data3_F</th>\n",
              "      <th>data3_G</th>\n",
              "      <th>data3_H</th>\n",
              "      <th>data6_0.0</th>\n",
              "      <th>data6_1.0</th>\n",
              "      <th>data8_0.0</th>\n",
              "      <th>data8_1.0</th>\n",
              "      <th>data8_2.0</th>\n",
              "      <th>data9_F</th>\n",
              "      <th>data9_M</th>\n",
              "      <th>data10_p</th>\n",
              "    </tr>\n",
              "  </thead>\n",
              "  <tbody>\n",
              "    <tr>\n",
              "      <th>0</th>\n",
              "      <td>8</td>\n",
              "      <td>279</td>\n",
              "      <td>14.451155</td>\n",
              "      <td>1139.0</td>\n",
              "      <td>9.302908</td>\n",
              "      <td>86.108947</td>\n",
              "      <td>0</td>\n",
              "      <td>0</td>\n",
              "      <td>1</td>\n",
              "      <td>0</td>\n",
              "      <td>0</td>\n",
              "      <td>0</td>\n",
              "      <td>0</td>\n",
              "      <td>0</td>\n",
              "      <td>0</td>\n",
              "      <td>1</td>\n",
              "      <td>0</td>\n",
              "      <td>1</td>\n",
              "      <td>0</td>\n",
              "      <td>0</td>\n",
              "      <td>1</td>\n",
              "      <td>1</td>\n",
              "    </tr>\n",
              "    <tr>\n",
              "      <th>1</th>\n",
              "      <td>1</td>\n",
              "      <td>108</td>\n",
              "      <td>14.207448</td>\n",
              "      <td>1656.0</td>\n",
              "      <td>7.220130</td>\n",
              "      <td>42.606833</td>\n",
              "      <td>0</td>\n",
              "      <td>0</td>\n",
              "      <td>0</td>\n",
              "      <td>0</td>\n",
              "      <td>0</td>\n",
              "      <td>0</td>\n",
              "      <td>0</td>\n",
              "      <td>1</td>\n",
              "      <td>0</td>\n",
              "      <td>1</td>\n",
              "      <td>1</td>\n",
              "      <td>0</td>\n",
              "      <td>0</td>\n",
              "      <td>0</td>\n",
              "      <td>1</td>\n",
              "      <td>1</td>\n",
              "    </tr>\n",
              "    <tr>\n",
              "      <th>2</th>\n",
              "      <td>8</td>\n",
              "      <td>258</td>\n",
              "      <td>19.220830</td>\n",
              "      <td>2817.0</td>\n",
              "      <td>8.727214</td>\n",
              "      <td>85.625961</td>\n",
              "      <td>1</td>\n",
              "      <td>0</td>\n",
              "      <td>0</td>\n",
              "      <td>0</td>\n",
              "      <td>0</td>\n",
              "      <td>0</td>\n",
              "      <td>0</td>\n",
              "      <td>0</td>\n",
              "      <td>0</td>\n",
              "      <td>1</td>\n",
              "      <td>0</td>\n",
              "      <td>1</td>\n",
              "      <td>0</td>\n",
              "      <td>0</td>\n",
              "      <td>1</td>\n",
              "      <td>1</td>\n",
              "    </tr>\n",
              "    <tr>\n",
              "      <th>3</th>\n",
              "      <td>4</td>\n",
              "      <td>147</td>\n",
              "      <td>15.752732</td>\n",
              "      <td>1948.0</td>\n",
              "      <td>6.078818</td>\n",
              "      <td>53.656277</td>\n",
              "      <td>1</td>\n",
              "      <td>0</td>\n",
              "      <td>0</td>\n",
              "      <td>0</td>\n",
              "      <td>0</td>\n",
              "      <td>0</td>\n",
              "      <td>0</td>\n",
              "      <td>0</td>\n",
              "      <td>0</td>\n",
              "      <td>1</td>\n",
              "      <td>0</td>\n",
              "      <td>1</td>\n",
              "      <td>0</td>\n",
              "      <td>0</td>\n",
              "      <td>1</td>\n",
              "      <td>1</td>\n",
              "    </tr>\n",
              "    <tr>\n",
              "      <th>4</th>\n",
              "      <td>5</td>\n",
              "      <td>230</td>\n",
              "      <td>10.195407</td>\n",
              "      <td>1336.0</td>\n",
              "      <td>4.749185</td>\n",
              "      <td>64.925051</td>\n",
              "      <td>0</td>\n",
              "      <td>0</td>\n",
              "      <td>0</td>\n",
              "      <td>0</td>\n",
              "      <td>0</td>\n",
              "      <td>0</td>\n",
              "      <td>0</td>\n",
              "      <td>1</td>\n",
              "      <td>0</td>\n",
              "      <td>1</td>\n",
              "      <td>1</td>\n",
              "      <td>0</td>\n",
              "      <td>0</td>\n",
              "      <td>0</td>\n",
              "      <td>1</td>\n",
              "      <td>1</td>\n",
              "    </tr>\n",
              "  </tbody>\n",
              "</table>\n",
              "</div>"
            ],
            "text/plain": [
              "   data1  data2      data4   data5  ...  data8_2.0  data9_F  data9_M  data10_p\n",
              "0      8    279  14.451155  1139.0  ...          0        0        1         1\n",
              "1      1    108  14.207448  1656.0  ...          0        0        1         1\n",
              "2      8    258  19.220830  2817.0  ...          0        0        1         1\n",
              "3      4    147  15.752732  1948.0  ...          0        0        1         1\n",
              "4      5    230  10.195407  1336.0  ...          0        0        1         1\n",
              "\n",
              "[5 rows x 22 columns]"
            ]
          },
          "metadata": {
            "tags": []
          },
          "execution_count": 78
        }
      ]
    },
    {
      "cell_type": "code",
      "metadata": {
        "id": "EfElsRxtJZTi"
      },
      "source": [
        "X=df.drop('output',axis=1)\r\n",
        "y=df['output']"
      ],
      "execution_count": 79,
      "outputs": []
    },
    {
      "cell_type": "code",
      "metadata": {
        "colab": {
          "base_uri": "https://localhost:8080/"
        },
        "id": "PlMFqXBXBm6T",
        "outputId": "b633495f-342f-4481-aa7a-2d436ef354b7"
      },
      "source": [
        "X_train.shape,y_train.shape"
      ],
      "execution_count": 80,
      "outputs": [
        {
          "output_type": "execute_result",
          "data": {
            "text/plain": [
              "((6498, 21), (6498,))"
            ]
          },
          "metadata": {
            "tags": []
          },
          "execution_count": 80
        }
      ]
    },
    {
      "cell_type": "code",
      "metadata": {
        "colab": {
          "base_uri": "https://localhost:8080/"
        },
        "id": "l7RHPfHeJZdM",
        "outputId": "3b9916b0-205e-47f8-c70b-bcf4c382b62e"
      },
      "source": [
        "clf=LinearRegression()\r\n",
        "X_train, X_test, y_train, y_test = train_test_split(X,y,test_size=0.35,random_state=10)\r\n",
        "clf.fit(X_train, y_train)\r\n",
        "predictions = clf.predict(X_test)\r\n",
        "mean_squared_error(y_test,predictions)"
      ],
      "execution_count": 81,
      "outputs": [
        {
          "output_type": "execute_result",
          "data": {
            "text/plain": [
              "1.6378781638243405"
            ]
          },
          "metadata": {
            "tags": []
          },
          "execution_count": 81
        }
      ]
    },
    {
      "cell_type": "code",
      "metadata": {
        "id": "aJbvLbgGAMX4"
      },
      "source": [
        ""
      ],
      "execution_count": 81,
      "outputs": []
    },
    {
      "cell_type": "code",
      "metadata": {
        "colab": {
          "base_uri": "https://localhost:8080/"
        },
        "id": "B0JAopPUpCgC",
        "outputId": "e4f0d314-2663-4beb-8b17-41bfa1518541"
      },
      "source": [
        "predictions"
      ],
      "execution_count": 82,
      "outputs": [
        {
          "output_type": "execute_result",
          "data": {
            "text/plain": [
              "array([40.96530808, 85.52904216, 50.12580865, ..., 43.39520572,\n",
              "       61.212411  , 68.92485454])"
            ]
          },
          "metadata": {
            "tags": []
          },
          "execution_count": 82
        }
      ]
    },
    {
      "cell_type": "code",
      "metadata": {
        "id": "GiFbzbJh-Dy5"
      },
      "source": [
        "from sklearn.linear_model import Ridge\r\n",
        "from sklearn.model_selection import GridSearchCV\r\n",
        "from sklearn.model_selection import RepeatedKFold\r\n",
        "cv=RepeatedKFold(n_splits=20,n_repeats=5,random_state=1)\r\n",
        "grid=dict()\r\n",
        "grid['alpha']=np.arange(0,1,0.1)\r\n",
        "ridge=Ridge()\r\n",
        "ridge_reg=GridSearchCV(ridge,grid,scoring='neg_mean_absolute_error',cv=cv,n_jobs=-1)\r\n",
        "ridge_reg.fit(X,y)"
      ],
      "execution_count": 83,
      "outputs": []
    },
    {
      "cell_type": "code",
      "metadata": {
        "colab": {
          "base_uri": "https://localhost:8080/"
        },
        "id": "Tk3YwobY-G5r",
        "outputId": "6fdeb2c6-197f-40c5-aa5a-07db24af2ba7"
      },
      "source": [
        "ridge_pred=ridge_reg.predict(X_test)\r\n",
        "print('r2_score of RIDGE REGREESOR :',r2_score(y_test,ridge_pred)*100)\r\n",
        "print('mean square error',mean_squared_error(y_test,ridge_pred))"
      ],
      "execution_count": 85,
      "outputs": [
        {
          "output_type": "stream",
          "text": [
            "r2_score of RIDGE REGREESOR : 99.4569450760594\n",
            "mean square error 0.986240795076092\n"
          ],
          "name": "stdout"
        }
      ]
    },
    {
      "cell_type": "code",
      "metadata": {
        "colab": {
          "base_uri": "https://localhost:8080/",
          "height": 406
        },
        "id": "XjEZfFXeTfA-",
        "outputId": "85f2cd78-a572-4557-c3f3-ca8b8bf7d49e"
      },
      "source": [
        "test=pd.read_csv('regression_test.txt')\r\n",
        "test"
      ],
      "execution_count": 86,
      "outputs": [
        {
          "output_type": "execute_result",
          "data": {
            "text/html": [
              "<div>\n",
              "<style scoped>\n",
              "    .dataframe tbody tr th:only-of-type {\n",
              "        vertical-align: middle;\n",
              "    }\n",
              "\n",
              "    .dataframe tbody tr th {\n",
              "        vertical-align: top;\n",
              "    }\n",
              "\n",
              "    .dataframe thead th {\n",
              "        text-align: right;\n",
              "    }\n",
              "</style>\n",
              "<table border=\"1\" class=\"dataframe\">\n",
              "  <thead>\n",
              "    <tr style=\"text-align: right;\">\n",
              "      <th></th>\n",
              "      <th>data1</th>\n",
              "      <th>data2</th>\n",
              "      <th>data3</th>\n",
              "      <th>data4</th>\n",
              "      <th>data5</th>\n",
              "      <th>data6</th>\n",
              "      <th>data7</th>\n",
              "      <th>data8</th>\n",
              "      <th>data9</th>\n",
              "      <th>data10</th>\n",
              "    </tr>\n",
              "  </thead>\n",
              "  <tbody>\n",
              "    <tr>\n",
              "      <th>0</th>\n",
              "      <td>7</td>\n",
              "      <td>195</td>\n",
              "      <td>A</td>\n",
              "      <td>29.038043</td>\n",
              "      <td>2725</td>\n",
              "      <td>1</td>\n",
              "      <td>6.145731</td>\n",
              "      <td>2</td>\n",
              "      <td>M</td>\n",
              "      <td>p</td>\n",
              "    </tr>\n",
              "    <tr>\n",
              "      <th>1</th>\n",
              "      <td>9</td>\n",
              "      <td>109</td>\n",
              "      <td>F</td>\n",
              "      <td>20.221431</td>\n",
              "      <td>1184</td>\n",
              "      <td>1</td>\n",
              "      <td>9.334184</td>\n",
              "      <td>2</td>\n",
              "      <td>M</td>\n",
              "      <td>p</td>\n",
              "    </tr>\n",
              "    <tr>\n",
              "      <th>2</th>\n",
              "      <td>0</td>\n",
              "      <td>126</td>\n",
              "      <td>C</td>\n",
              "      <td>26.477532</td>\n",
              "      <td>2975</td>\n",
              "      <td>1</td>\n",
              "      <td>9.021806</td>\n",
              "      <td>1</td>\n",
              "      <td>M</td>\n",
              "      <td>p</td>\n",
              "    </tr>\n",
              "    <tr>\n",
              "      <th>3</th>\n",
              "      <td>2</td>\n",
              "      <td>209</td>\n",
              "      <td>E</td>\n",
              "      <td>13.445450</td>\n",
              "      <td>1067</td>\n",
              "      <td>1</td>\n",
              "      <td>1.814993</td>\n",
              "      <td>0</td>\n",
              "      <td>M</td>\n",
              "      <td>p</td>\n",
              "    </tr>\n",
              "    <tr>\n",
              "      <th>4</th>\n",
              "      <td>5</td>\n",
              "      <td>268</td>\n",
              "      <td>B</td>\n",
              "      <td>25.065894</td>\n",
              "      <td>1336</td>\n",
              "      <td>1</td>\n",
              "      <td>1.639130</td>\n",
              "      <td>1</td>\n",
              "      <td>M</td>\n",
              "      <td>p</td>\n",
              "    </tr>\n",
              "    <tr>\n",
              "      <th>...</th>\n",
              "      <td>...</td>\n",
              "      <td>...</td>\n",
              "      <td>...</td>\n",
              "      <td>...</td>\n",
              "      <td>...</td>\n",
              "      <td>...</td>\n",
              "      <td>...</td>\n",
              "      <td>...</td>\n",
              "      <td>...</td>\n",
              "      <td>...</td>\n",
              "    </tr>\n",
              "    <tr>\n",
              "      <th>9995</th>\n",
              "      <td>7</td>\n",
              "      <td>251</td>\n",
              "      <td>D</td>\n",
              "      <td>23.004384</td>\n",
              "      <td>1637</td>\n",
              "      <td>0</td>\n",
              "      <td>8.333728</td>\n",
              "      <td>1</td>\n",
              "      <td>F</td>\n",
              "      <td>p</td>\n",
              "    </tr>\n",
              "    <tr>\n",
              "      <th>9996</th>\n",
              "      <td>5</td>\n",
              "      <td>275</td>\n",
              "      <td>A</td>\n",
              "      <td>29.514058</td>\n",
              "      <td>2339</td>\n",
              "      <td>0</td>\n",
              "      <td>9.953107</td>\n",
              "      <td>1</td>\n",
              "      <td>F</td>\n",
              "      <td>p</td>\n",
              "    </tr>\n",
              "    <tr>\n",
              "      <th>9997</th>\n",
              "      <td>8</td>\n",
              "      <td>168</td>\n",
              "      <td>C</td>\n",
              "      <td>22.520965</td>\n",
              "      <td>1827</td>\n",
              "      <td>0</td>\n",
              "      <td>7.555553</td>\n",
              "      <td>1</td>\n",
              "      <td>F</td>\n",
              "      <td>p</td>\n",
              "    </tr>\n",
              "    <tr>\n",
              "      <th>9998</th>\n",
              "      <td>4</td>\n",
              "      <td>296</td>\n",
              "      <td>E</td>\n",
              "      <td>16.558948</td>\n",
              "      <td>1748</td>\n",
              "      <td>0</td>\n",
              "      <td>8.846995</td>\n",
              "      <td>1</td>\n",
              "      <td>F</td>\n",
              "      <td>p</td>\n",
              "    </tr>\n",
              "    <tr>\n",
              "      <th>9999</th>\n",
              "      <td>7</td>\n",
              "      <td>281</td>\n",
              "      <td>C</td>\n",
              "      <td>18.546089</td>\n",
              "      <td>1651</td>\n",
              "      <td>0</td>\n",
              "      <td>8.907220</td>\n",
              "      <td>2</td>\n",
              "      <td>F</td>\n",
              "      <td>p</td>\n",
              "    </tr>\n",
              "  </tbody>\n",
              "</table>\n",
              "<p>10000 rows × 10 columns</p>\n",
              "</div>"
            ],
            "text/plain": [
              "      data1  data2 data3      data4  data5  data6     data7  data8 data9 data10\n",
              "0         7    195     A  29.038043   2725      1  6.145731      2     M      p\n",
              "1         9    109     F  20.221431   1184      1  9.334184      2     M      p\n",
              "2         0    126     C  26.477532   2975      1  9.021806      1     M      p\n",
              "3         2    209     E  13.445450   1067      1  1.814993      0     M      p\n",
              "4         5    268     B  25.065894   1336      1  1.639130      1     M      p\n",
              "...     ...    ...   ...        ...    ...    ...       ...    ...   ...    ...\n",
              "9995      7    251     D  23.004384   1637      0  8.333728      1     F      p\n",
              "9996      5    275     A  29.514058   2339      0  9.953107      1     F      p\n",
              "9997      8    168     C  22.520965   1827      0  7.555553      1     F      p\n",
              "9998      4    296     E  16.558948   1748      0  8.846995      1     F      p\n",
              "9999      7    281     C  18.546089   1651      0  8.907220      2     F      p\n",
              "\n",
              "[10000 rows x 10 columns]"
            ]
          },
          "metadata": {
            "tags": []
          },
          "execution_count": 86
        }
      ]
    },
    {
      "cell_type": "code",
      "metadata": {
        "colab": {
          "base_uri": "https://localhost:8080/"
        },
        "id": "hqShJ1pmT0MP",
        "outputId": "ddd6e540-9de4-4211-c90b-6be83c298859"
      },
      "source": [
        "test.isnull().sum()"
      ],
      "execution_count": 89,
      "outputs": [
        {
          "output_type": "execute_result",
          "data": {
            "text/plain": [
              "data1     0\n",
              "data2     0\n",
              "data3     0\n",
              "data4     0\n",
              "data5     0\n",
              "data6     0\n",
              "data7     0\n",
              "data8     0\n",
              "data9     0\n",
              "data10    0\n",
              "dtype: int64"
            ]
          },
          "metadata": {
            "tags": []
          },
          "execution_count": 89
        }
      ]
    },
    {
      "cell_type": "code",
      "metadata": {
        "colab": {
          "base_uri": "https://localhost:8080/",
          "height": 197
        },
        "id": "d-dFEfsKT0xJ",
        "outputId": "c4e3fcbc-3cf4-4ee8-8a62-d96f862546db"
      },
      "source": [
        "test.head()"
      ],
      "execution_count": 90,
      "outputs": [
        {
          "output_type": "execute_result",
          "data": {
            "text/html": [
              "<div>\n",
              "<style scoped>\n",
              "    .dataframe tbody tr th:only-of-type {\n",
              "        vertical-align: middle;\n",
              "    }\n",
              "\n",
              "    .dataframe tbody tr th {\n",
              "        vertical-align: top;\n",
              "    }\n",
              "\n",
              "    .dataframe thead th {\n",
              "        text-align: right;\n",
              "    }\n",
              "</style>\n",
              "<table border=\"1\" class=\"dataframe\">\n",
              "  <thead>\n",
              "    <tr style=\"text-align: right;\">\n",
              "      <th></th>\n",
              "      <th>data1</th>\n",
              "      <th>data2</th>\n",
              "      <th>data3</th>\n",
              "      <th>data4</th>\n",
              "      <th>data5</th>\n",
              "      <th>data6</th>\n",
              "      <th>data7</th>\n",
              "      <th>data8</th>\n",
              "      <th>data9</th>\n",
              "      <th>data10</th>\n",
              "    </tr>\n",
              "  </thead>\n",
              "  <tbody>\n",
              "    <tr>\n",
              "      <th>0</th>\n",
              "      <td>7</td>\n",
              "      <td>195</td>\n",
              "      <td>A</td>\n",
              "      <td>29.038043</td>\n",
              "      <td>2725</td>\n",
              "      <td>1</td>\n",
              "      <td>6.145731</td>\n",
              "      <td>2</td>\n",
              "      <td>M</td>\n",
              "      <td>p</td>\n",
              "    </tr>\n",
              "    <tr>\n",
              "      <th>1</th>\n",
              "      <td>9</td>\n",
              "      <td>109</td>\n",
              "      <td>F</td>\n",
              "      <td>20.221431</td>\n",
              "      <td>1184</td>\n",
              "      <td>1</td>\n",
              "      <td>9.334184</td>\n",
              "      <td>2</td>\n",
              "      <td>M</td>\n",
              "      <td>p</td>\n",
              "    </tr>\n",
              "    <tr>\n",
              "      <th>2</th>\n",
              "      <td>0</td>\n",
              "      <td>126</td>\n",
              "      <td>C</td>\n",
              "      <td>26.477532</td>\n",
              "      <td>2975</td>\n",
              "      <td>1</td>\n",
              "      <td>9.021806</td>\n",
              "      <td>1</td>\n",
              "      <td>M</td>\n",
              "      <td>p</td>\n",
              "    </tr>\n",
              "    <tr>\n",
              "      <th>3</th>\n",
              "      <td>2</td>\n",
              "      <td>209</td>\n",
              "      <td>E</td>\n",
              "      <td>13.445450</td>\n",
              "      <td>1067</td>\n",
              "      <td>1</td>\n",
              "      <td>1.814993</td>\n",
              "      <td>0</td>\n",
              "      <td>M</td>\n",
              "      <td>p</td>\n",
              "    </tr>\n",
              "    <tr>\n",
              "      <th>4</th>\n",
              "      <td>5</td>\n",
              "      <td>268</td>\n",
              "      <td>B</td>\n",
              "      <td>25.065894</td>\n",
              "      <td>1336</td>\n",
              "      <td>1</td>\n",
              "      <td>1.639130</td>\n",
              "      <td>1</td>\n",
              "      <td>M</td>\n",
              "      <td>p</td>\n",
              "    </tr>\n",
              "  </tbody>\n",
              "</table>\n",
              "</div>"
            ],
            "text/plain": [
              "   data1  data2 data3      data4  data5  data6     data7  data8 data9 data10\n",
              "0      7    195     A  29.038043   2725      1  6.145731      2     M      p\n",
              "1      9    109     F  20.221431   1184      1  9.334184      2     M      p\n",
              "2      0    126     C  26.477532   2975      1  9.021806      1     M      p\n",
              "3      2    209     E  13.445450   1067      1  1.814993      0     M      p\n",
              "4      5    268     B  25.065894   1336      1  1.639130      1     M      p"
            ]
          },
          "metadata": {
            "tags": []
          },
          "execution_count": 90
        }
      ]
    },
    {
      "cell_type": "code",
      "metadata": {
        "colab": {
          "base_uri": "https://localhost:8080/"
        },
        "id": "lV8bYqnRZDh-",
        "outputId": "23405316-1f5b-491b-ba8d-0e5b11c60412"
      },
      "source": [
        "test.dtypes"
      ],
      "execution_count": 91,
      "outputs": [
        {
          "output_type": "execute_result",
          "data": {
            "text/plain": [
              "data1       int64\n",
              "data2       int64\n",
              "data3      object\n",
              "data4     float64\n",
              "data5       int64\n",
              "data6       int64\n",
              "data7     float64\n",
              "data8       int64\n",
              "data9      object\n",
              "data10     object\n",
              "dtype: object"
            ]
          },
          "metadata": {
            "tags": []
          },
          "execution_count": 91
        }
      ]
    },
    {
      "cell_type": "code",
      "metadata": {
        "colab": {
          "base_uri": "https://localhost:8080/",
          "height": 217
        },
        "id": "-_vVy7mYT1Vo",
        "outputId": "49a07cc5-645c-4cf9-caa5-71c6febc7c74"
      },
      "source": [
        "_test=pd.get_dummies(test,columns=['data3','data6','data8','data9','data10'])\r\n",
        "_test.head()"
      ],
      "execution_count": 92,
      "outputs": [
        {
          "output_type": "execute_result",
          "data": {
            "text/html": [
              "<div>\n",
              "<style scoped>\n",
              "    .dataframe tbody tr th:only-of-type {\n",
              "        vertical-align: middle;\n",
              "    }\n",
              "\n",
              "    .dataframe tbody tr th {\n",
              "        vertical-align: top;\n",
              "    }\n",
              "\n",
              "    .dataframe thead th {\n",
              "        text-align: right;\n",
              "    }\n",
              "</style>\n",
              "<table border=\"1\" class=\"dataframe\">\n",
              "  <thead>\n",
              "    <tr style=\"text-align: right;\">\n",
              "      <th></th>\n",
              "      <th>data1</th>\n",
              "      <th>data2</th>\n",
              "      <th>data4</th>\n",
              "      <th>data5</th>\n",
              "      <th>data7</th>\n",
              "      <th>data3_A</th>\n",
              "      <th>data3_B</th>\n",
              "      <th>data3_C</th>\n",
              "      <th>data3_D</th>\n",
              "      <th>data3_E</th>\n",
              "      <th>data3_F</th>\n",
              "      <th>data3_G</th>\n",
              "      <th>data3_H</th>\n",
              "      <th>data6_0</th>\n",
              "      <th>data6_1</th>\n",
              "      <th>data8_0</th>\n",
              "      <th>data8_1</th>\n",
              "      <th>data8_2</th>\n",
              "      <th>data9_F</th>\n",
              "      <th>data9_M</th>\n",
              "      <th>data10_p</th>\n",
              "    </tr>\n",
              "  </thead>\n",
              "  <tbody>\n",
              "    <tr>\n",
              "      <th>0</th>\n",
              "      <td>7</td>\n",
              "      <td>195</td>\n",
              "      <td>29.038043</td>\n",
              "      <td>2725</td>\n",
              "      <td>6.145731</td>\n",
              "      <td>1</td>\n",
              "      <td>0</td>\n",
              "      <td>0</td>\n",
              "      <td>0</td>\n",
              "      <td>0</td>\n",
              "      <td>0</td>\n",
              "      <td>0</td>\n",
              "      <td>0</td>\n",
              "      <td>0</td>\n",
              "      <td>1</td>\n",
              "      <td>0</td>\n",
              "      <td>0</td>\n",
              "      <td>1</td>\n",
              "      <td>0</td>\n",
              "      <td>1</td>\n",
              "      <td>1</td>\n",
              "    </tr>\n",
              "    <tr>\n",
              "      <th>1</th>\n",
              "      <td>9</td>\n",
              "      <td>109</td>\n",
              "      <td>20.221431</td>\n",
              "      <td>1184</td>\n",
              "      <td>9.334184</td>\n",
              "      <td>0</td>\n",
              "      <td>0</td>\n",
              "      <td>0</td>\n",
              "      <td>0</td>\n",
              "      <td>0</td>\n",
              "      <td>1</td>\n",
              "      <td>0</td>\n",
              "      <td>0</td>\n",
              "      <td>0</td>\n",
              "      <td>1</td>\n",
              "      <td>0</td>\n",
              "      <td>0</td>\n",
              "      <td>1</td>\n",
              "      <td>0</td>\n",
              "      <td>1</td>\n",
              "      <td>1</td>\n",
              "    </tr>\n",
              "    <tr>\n",
              "      <th>2</th>\n",
              "      <td>0</td>\n",
              "      <td>126</td>\n",
              "      <td>26.477532</td>\n",
              "      <td>2975</td>\n",
              "      <td>9.021806</td>\n",
              "      <td>0</td>\n",
              "      <td>0</td>\n",
              "      <td>1</td>\n",
              "      <td>0</td>\n",
              "      <td>0</td>\n",
              "      <td>0</td>\n",
              "      <td>0</td>\n",
              "      <td>0</td>\n",
              "      <td>0</td>\n",
              "      <td>1</td>\n",
              "      <td>0</td>\n",
              "      <td>1</td>\n",
              "      <td>0</td>\n",
              "      <td>0</td>\n",
              "      <td>1</td>\n",
              "      <td>1</td>\n",
              "    </tr>\n",
              "    <tr>\n",
              "      <th>3</th>\n",
              "      <td>2</td>\n",
              "      <td>209</td>\n",
              "      <td>13.445450</td>\n",
              "      <td>1067</td>\n",
              "      <td>1.814993</td>\n",
              "      <td>0</td>\n",
              "      <td>0</td>\n",
              "      <td>0</td>\n",
              "      <td>0</td>\n",
              "      <td>1</td>\n",
              "      <td>0</td>\n",
              "      <td>0</td>\n",
              "      <td>0</td>\n",
              "      <td>0</td>\n",
              "      <td>1</td>\n",
              "      <td>1</td>\n",
              "      <td>0</td>\n",
              "      <td>0</td>\n",
              "      <td>0</td>\n",
              "      <td>1</td>\n",
              "      <td>1</td>\n",
              "    </tr>\n",
              "    <tr>\n",
              "      <th>4</th>\n",
              "      <td>5</td>\n",
              "      <td>268</td>\n",
              "      <td>25.065894</td>\n",
              "      <td>1336</td>\n",
              "      <td>1.639130</td>\n",
              "      <td>0</td>\n",
              "      <td>1</td>\n",
              "      <td>0</td>\n",
              "      <td>0</td>\n",
              "      <td>0</td>\n",
              "      <td>0</td>\n",
              "      <td>0</td>\n",
              "      <td>0</td>\n",
              "      <td>0</td>\n",
              "      <td>1</td>\n",
              "      <td>0</td>\n",
              "      <td>1</td>\n",
              "      <td>0</td>\n",
              "      <td>0</td>\n",
              "      <td>1</td>\n",
              "      <td>1</td>\n",
              "    </tr>\n",
              "  </tbody>\n",
              "</table>\n",
              "</div>"
            ],
            "text/plain": [
              "   data1  data2      data4  data5  ...  data8_2  data9_F  data9_M  data10_p\n",
              "0      7    195  29.038043   2725  ...        1        0        1         1\n",
              "1      9    109  20.221431   1184  ...        1        0        1         1\n",
              "2      0    126  26.477532   2975  ...        0        0        1         1\n",
              "3      2    209  13.445450   1067  ...        0        0        1         1\n",
              "4      5    268  25.065894   1336  ...        0        0        1         1\n",
              "\n",
              "[5 rows x 21 columns]"
            ]
          },
          "metadata": {
            "tags": []
          },
          "execution_count": 92
        }
      ]
    },
    {
      "cell_type": "code",
      "metadata": {
        "id": "8yYyg5daT15-"
      },
      "source": [
        "new=clf.predict(_test)"
      ],
      "execution_count": 93,
      "outputs": []
    },
    {
      "cell_type": "code",
      "metadata": {
        "id": "U5vwKdDKXKoq",
        "colab": {
          "base_uri": "https://localhost:8080/",
          "height": 406
        },
        "outputId": "54bcdb24-9e91-478c-acb9-fb9f37e2c155"
      },
      "source": [
        "Final_data=pd.read_csv('regression_test.txt')\r\n",
        "Final_data['outputt']=new\r\n",
        "Final_data.to_excel('linear_reg.xls',index=False)\r\n",
        "newdatapredicted=pd.read_excel('linear_reg.xls')\r\n",
        "newdatapredicted"
      ],
      "execution_count": 97,
      "outputs": [
        {
          "output_type": "execute_result",
          "data": {
            "text/html": [
              "<div>\n",
              "<style scoped>\n",
              "    .dataframe tbody tr th:only-of-type {\n",
              "        vertical-align: middle;\n",
              "    }\n",
              "\n",
              "    .dataframe tbody tr th {\n",
              "        vertical-align: top;\n",
              "    }\n",
              "\n",
              "    .dataframe thead th {\n",
              "        text-align: right;\n",
              "    }\n",
              "</style>\n",
              "<table border=\"1\" class=\"dataframe\">\n",
              "  <thead>\n",
              "    <tr style=\"text-align: right;\">\n",
              "      <th></th>\n",
              "      <th>data1</th>\n",
              "      <th>data2</th>\n",
              "      <th>data3</th>\n",
              "      <th>data4</th>\n",
              "      <th>data5</th>\n",
              "      <th>data6</th>\n",
              "      <th>data7</th>\n",
              "      <th>data8</th>\n",
              "      <th>data9</th>\n",
              "      <th>data10</th>\n",
              "      <th>outputt</th>\n",
              "    </tr>\n",
              "  </thead>\n",
              "  <tbody>\n",
              "    <tr>\n",
              "      <th>0</th>\n",
              "      <td>7</td>\n",
              "      <td>195</td>\n",
              "      <td>A</td>\n",
              "      <td>29.038043</td>\n",
              "      <td>2725</td>\n",
              "      <td>1</td>\n",
              "      <td>6.145731</td>\n",
              "      <td>2</td>\n",
              "      <td>M</td>\n",
              "      <td>p</td>\n",
              "      <td>76.987698</td>\n",
              "    </tr>\n",
              "    <tr>\n",
              "      <th>1</th>\n",
              "      <td>9</td>\n",
              "      <td>109</td>\n",
              "      <td>F</td>\n",
              "      <td>20.221431</td>\n",
              "      <td>1184</td>\n",
              "      <td>1</td>\n",
              "      <td>9.334184</td>\n",
              "      <td>2</td>\n",
              "      <td>M</td>\n",
              "      <td>p</td>\n",
              "      <td>56.419112</td>\n",
              "    </tr>\n",
              "    <tr>\n",
              "      <th>2</th>\n",
              "      <td>0</td>\n",
              "      <td>126</td>\n",
              "      <td>C</td>\n",
              "      <td>26.477532</td>\n",
              "      <td>2975</td>\n",
              "      <td>1</td>\n",
              "      <td>9.021806</td>\n",
              "      <td>1</td>\n",
              "      <td>M</td>\n",
              "      <td>p</td>\n",
              "      <td>59.826683</td>\n",
              "    </tr>\n",
              "    <tr>\n",
              "      <th>3</th>\n",
              "      <td>2</td>\n",
              "      <td>209</td>\n",
              "      <td>E</td>\n",
              "      <td>13.445450</td>\n",
              "      <td>1067</td>\n",
              "      <td>1</td>\n",
              "      <td>1.814993</td>\n",
              "      <td>0</td>\n",
              "      <td>M</td>\n",
              "      <td>p</td>\n",
              "      <td>58.876364</td>\n",
              "    </tr>\n",
              "    <tr>\n",
              "      <th>4</th>\n",
              "      <td>5</td>\n",
              "      <td>268</td>\n",
              "      <td>B</td>\n",
              "      <td>25.065894</td>\n",
              "      <td>1336</td>\n",
              "      <td>1</td>\n",
              "      <td>1.639130</td>\n",
              "      <td>1</td>\n",
              "      <td>M</td>\n",
              "      <td>p</td>\n",
              "      <td>82.154285</td>\n",
              "    </tr>\n",
              "    <tr>\n",
              "      <th>...</th>\n",
              "      <td>...</td>\n",
              "      <td>...</td>\n",
              "      <td>...</td>\n",
              "      <td>...</td>\n",
              "      <td>...</td>\n",
              "      <td>...</td>\n",
              "      <td>...</td>\n",
              "      <td>...</td>\n",
              "      <td>...</td>\n",
              "      <td>...</td>\n",
              "      <td>...</td>\n",
              "    </tr>\n",
              "    <tr>\n",
              "      <th>9995</th>\n",
              "      <td>7</td>\n",
              "      <td>251</td>\n",
              "      <td>D</td>\n",
              "      <td>23.004384</td>\n",
              "      <td>1637</td>\n",
              "      <td>0</td>\n",
              "      <td>8.333728</td>\n",
              "      <td>1</td>\n",
              "      <td>F</td>\n",
              "      <td>p</td>\n",
              "      <td>85.486313</td>\n",
              "    </tr>\n",
              "    <tr>\n",
              "      <th>9996</th>\n",
              "      <td>5</td>\n",
              "      <td>275</td>\n",
              "      <td>A</td>\n",
              "      <td>29.514058</td>\n",
              "      <td>2339</td>\n",
              "      <td>0</td>\n",
              "      <td>9.953107</td>\n",
              "      <td>1</td>\n",
              "      <td>F</td>\n",
              "      <td>p</td>\n",
              "      <td>96.518342</td>\n",
              "    </tr>\n",
              "    <tr>\n",
              "      <th>9997</th>\n",
              "      <td>8</td>\n",
              "      <td>168</td>\n",
              "      <td>C</td>\n",
              "      <td>22.520965</td>\n",
              "      <td>1827</td>\n",
              "      <td>0</td>\n",
              "      <td>7.555553</td>\n",
              "      <td>1</td>\n",
              "      <td>F</td>\n",
              "      <td>p</td>\n",
              "      <td>68.295847</td>\n",
              "    </tr>\n",
              "    <tr>\n",
              "      <th>9998</th>\n",
              "      <td>4</td>\n",
              "      <td>296</td>\n",
              "      <td>E</td>\n",
              "      <td>16.558948</td>\n",
              "      <td>1748</td>\n",
              "      <td>0</td>\n",
              "      <td>8.846995</td>\n",
              "      <td>1</td>\n",
              "      <td>F</td>\n",
              "      <td>p</td>\n",
              "      <td>87.733531</td>\n",
              "    </tr>\n",
              "    <tr>\n",
              "      <th>9999</th>\n",
              "      <td>7</td>\n",
              "      <td>281</td>\n",
              "      <td>C</td>\n",
              "      <td>18.546089</td>\n",
              "      <td>1651</td>\n",
              "      <td>0</td>\n",
              "      <td>8.907220</td>\n",
              "      <td>2</td>\n",
              "      <td>F</td>\n",
              "      <td>p</td>\n",
              "      <td>88.270634</td>\n",
              "    </tr>\n",
              "  </tbody>\n",
              "</table>\n",
              "<p>10000 rows × 11 columns</p>\n",
              "</div>"
            ],
            "text/plain": [
              "      data1  data2 data3      data4  ...  data8  data9  data10    outputt\n",
              "0         7    195     A  29.038043  ...      2      M       p  76.987698\n",
              "1         9    109     F  20.221431  ...      2      M       p  56.419112\n",
              "2         0    126     C  26.477532  ...      1      M       p  59.826683\n",
              "3         2    209     E  13.445450  ...      0      M       p  58.876364\n",
              "4         5    268     B  25.065894  ...      1      M       p  82.154285\n",
              "...     ...    ...   ...        ...  ...    ...    ...     ...        ...\n",
              "9995      7    251     D  23.004384  ...      1      F       p  85.486313\n",
              "9996      5    275     A  29.514058  ...      1      F       p  96.518342\n",
              "9997      8    168     C  22.520965  ...      1      F       p  68.295847\n",
              "9998      4    296     E  16.558948  ...      1      F       p  87.733531\n",
              "9999      7    281     C  18.546089  ...      2      F       p  88.270634\n",
              "\n",
              "[10000 rows x 11 columns]"
            ]
          },
          "metadata": {
            "tags": []
          },
          "execution_count": 97
        }
      ]
    },
    {
      "cell_type": "code",
      "metadata": {
        "id": "ZOaifgO_89QE"
      },
      "source": [
        ""
      ],
      "execution_count": null,
      "outputs": []
    },
    {
      "cell_type": "code",
      "metadata": {
        "id": "71tRefzw9L_1"
      },
      "source": [
        ""
      ],
      "execution_count": null,
      "outputs": []
    }
  ]
}